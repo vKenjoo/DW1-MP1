{
 "cells": [
  {
   "cell_type": "code",
   "execution_count": 2,
   "metadata": {},
   "outputs": [],
   "source": [
    "import pandas as pd\n",
    "\n",
    "patient_dim = pd.read_csv(\"data/patient_dim.csv\")\n",
    "physician_dim = pd.read_csv(\"data/physician_dim.csv\")\n",
    "department_dim = pd.read_csv(\"data/department_dim.csv\")\n",
    "date_dim = pd.read_csv(\"data/date_dim.csv\")\n",
    "treatment_dim = pd.read_csv(\"data/treatment_dim.csv\")\n",
    "diagnosis_dim = pd.read_csv(\"data/diagnosis_dim.csv\")\n",
    "medical_visit_fact = pd.read_csv(\"data/medical_visit_fact.csv\")\n"
   ]
  },
  {
   "cell_type": "markdown",
   "metadata": {},
   "source": [
    "# Number 1: Dimensional Tables in python. explore the tables and graph related to the said tables. (20 points) "
   ]
  },
  {
   "cell_type": "code",
   "execution_count": 9,
   "metadata": {},
   "outputs": [
    {
     "name": "stdout",
     "output_type": "stream",
     "text": [
      "Patient Dimension:\n",
      "   Unnamed: 0  Patient_ID     Patient_Name        Address         City  \\\n",
      "0           0           1         John Doe   123 Maple St  Los Angeles   \n",
      "1           1           2       Jane Smith    456 Oak Ave     New York   \n",
      "2           2           3  Michael Johnson  789 Pine Blvd      Chicago   \n",
      "3           3           4      Emily Davis   321 Cedar Ln      Houston   \n",
      "4           4           5     David Wilson   654 Birch Dr        Miami   \n",
      "\n",
      "        State Country                   Email  Phone_Number Date_Of_Birth  \\\n",
      "0  California     USA    john.doe@example.com  555-123-4567    1980-01-15   \n",
      "1    New York     USA  jane.smith@example.com  555-234-5678    1975-02-20   \n",
      "2    Illinois     USA   michael.j@example.com  555-345-6789    1985-03-25   \n",
      "3       Texas     USA     emily.d@example.com  555-456-7890    1990-04-30   \n",
      "4     Florida     USA     david.w@example.com  555-567-8901    1982-05-10   \n",
      "\n",
      "  Gender Insurance_ID Primary_Physician Date_Of_Registration  \n",
      "0      M    INS123456   Dr. Alice Smith           2023-01-10  \n",
      "1      F    INS234567     Dr. Bob Brown           2023-02-15  \n",
      "2      M    INS345678   Dr. Carol White           2023-03-18  \n",
      "3      F    INS456789   Dr. David Green           2023-04-22  \n",
      "4      M    INS567890     Dr. Eve Black           2023-05-25  \n",
      "\n",
      "Physician Dimension:\n",
      "   Unnamed: 0  Physician_ID   Physician_Name         Specialty  Phone_Number  \\\n",
      "0           0             1  Dr. Alice Smith  General Medicine  555-111-2222   \n",
      "1           1             2    Dr. Bob Brown        Cardiology  555-222-3333   \n",
      "2           2             3  Dr. Carol White       Orthopedics  555-333-4444   \n",
      "3           3             4  Dr. David Green         Neurology  555-444-5555   \n",
      "4           4             5    Dr. Eve Black       Dermatology  555-555-6666   \n",
      "\n",
      "                      Email  \n",
      "0  alice.smith@hospital.com  \n",
      "1    bob.brown@hospital.com  \n",
      "2  carol.white@hospital.com  \n",
      "3  david.green@hospital.com  \n",
      "4    eve.black@hospital.com  \n",
      "\n",
      "Department Dimension:\n",
      "   Unnamed: 0  Department_ID   Department_Name    Location\n",
      "0           0              1  General Medicine  Building A\n",
      "1           1              2        Cardiology  Building B\n",
      "2           2              3       Orthopedics  Building C\n",
      "3           3              4         Neurology  Building D\n",
      "4           4              5       Dermatology  Building E\n",
      "\n",
      "Date Dimension:\n",
      "   Unnamed: 0  Date_ID        Date  Day  Month  Quarter  Year\n",
      "0           0        1  2023-01-10   10      1        1  2023\n",
      "1           1        2  2023-02-15   15      2        1  2023\n",
      "2           2        3  2023-03-18   18      3        1  2023\n",
      "3           3        4  2023-04-22   22      4        2  2023\n",
      "4           4        5  2023-05-25   25      5        2  2023\n",
      "\n",
      "Treatment Dimension:\n",
      "   Unnamed: 0 Treatment_Code      Treatment_Description\n",
      "0           0           T001       Antiviral Medication\n",
      "1           1           T002  Blood Pressure Medication\n",
      "2           2           T003                    Casting\n",
      "3           3           T004            Pain Management\n",
      "4           4           T005           Topical Ointment\n",
      "\n",
      "Diagnosis Dimension:\n",
      "   Unnamed: 0 Diagnosis_Code Diagnosis_Description\n",
      "0           0           D001                   Flu\n",
      "1           1           D002          Hypertension\n",
      "2           2           D003              Fracture\n",
      "3           3           D004              Migraine\n",
      "4           4           D005                  Acne\n",
      "\n",
      "Medical Visit Fact Table:\n",
      "   Unnamed: 0  Visit_ID  Patient_ID  Physician_ID  Date_ID  Department_ID  \\\n",
      "0           0         1           1             1        1              1   \n",
      "1           1         2           2             2        2              2   \n",
      "2           2         3           3             3        3              3   \n",
      "3           3         4           4             4        4              4   \n",
      "4           4         5           5             5        5              5   \n",
      "\n",
      "     Visit_Type Diagnosis_Code Treatment_Code  Visit_Cost  Insurance_Coverage  \n",
      "0  Consultation           D001           T001       150.0               100.0  \n",
      "1     Follow-up           D002           T002       200.0               150.0  \n",
      "2       Surgery           D003           T003      3000.0              2500.0  \n",
      "3     Emergency           D004           T004       500.0               400.0  \n",
      "4      Check-up           D005           T005       120.0               100.0  \n"
     ]
    }
   ],
   "source": [
    "# Display each dimension's DataFrame \n",
    "print(\"Patient Dimension:\")\n",
    "print(patient_dim)\n",
    "\n",
    "print(\"\\nPhysician Dimension:\")\n",
    "print(physician_dim)\n",
    "\n",
    "print(\"\\nDepartment Dimension:\")\n",
    "print(department_dim)\n",
    "\n",
    "print(\"\\nDate Dimension:\")\n",
    "print(date_dim)\n",
    "\n",
    "print(\"\\nTreatment Dimension:\")\n",
    "print(treatment_dim)\n",
    "\n",
    "print(\"\\nDiagnosis Dimension:\")\n",
    "print(diagnosis_dim)\n",
    "\n",
    "print(\"\\nMedical Visit Fact Table:\")\n",
    "print(medical_visit_fact)"
   ]
  },
  {
   "cell_type": "code",
   "execution_count": 8,
   "metadata": {},
   "outputs": [
    {
     "name": "stdout",
     "output_type": "stream",
     "text": [
      "Patient Dimension Structure:\n",
      "   Unnamed: 0  Patient_ID     Patient_Name        Address         City  \\\n",
      "0           0           1         John Doe   123 Maple St  Los Angeles   \n",
      "1           1           2       Jane Smith    456 Oak Ave     New York   \n",
      "2           2           3  Michael Johnson  789 Pine Blvd      Chicago   \n",
      "3           3           4      Emily Davis   321 Cedar Ln      Houston   \n",
      "4           4           5     David Wilson   654 Birch Dr        Miami   \n",
      "\n",
      "        State Country                   Email  Phone_Number Date_Of_Birth  \\\n",
      "0  California     USA    john.doe@example.com  555-123-4567    1980-01-15   \n",
      "1    New York     USA  jane.smith@example.com  555-234-5678    1975-02-20   \n",
      "2    Illinois     USA   michael.j@example.com  555-345-6789    1985-03-25   \n",
      "3       Texas     USA     emily.d@example.com  555-456-7890    1990-04-30   \n",
      "4     Florida     USA     david.w@example.com  555-567-8901    1982-05-10   \n",
      "\n",
      "  Gender Insurance_ID Primary_Physician Date_Of_Registration  \n",
      "0      M    INS123456   Dr. Alice Smith           2023-01-10  \n",
      "1      F    INS234567     Dr. Bob Brown           2023-02-15  \n",
      "2      M    INS345678   Dr. Carol White           2023-03-18  \n",
      "3      F    INS456789   Dr. David Green           2023-04-22  \n",
      "4      M    INS567890     Dr. Eve Black           2023-05-25  \n",
      "\n",
      "Physician Dimension Structure:\n",
      "   Unnamed: 0  Physician_ID   Physician_Name         Specialty  Phone_Number  \\\n",
      "0           0             1  Dr. Alice Smith  General Medicine  555-111-2222   \n",
      "1           1             2    Dr. Bob Brown        Cardiology  555-222-3333   \n",
      "2           2             3  Dr. Carol White       Orthopedics  555-333-4444   \n",
      "3           3             4  Dr. David Green         Neurology  555-444-5555   \n",
      "4           4             5    Dr. Eve Black       Dermatology  555-555-6666   \n",
      "\n",
      "                      Email  \n",
      "0  alice.smith@hospital.com  \n",
      "1    bob.brown@hospital.com  \n",
      "2  carol.white@hospital.com  \n",
      "3  david.green@hospital.com  \n",
      "4    eve.black@hospital.com  \n",
      "\n",
      "Department Dimension Structure:\n",
      "   Unnamed: 0  Department_ID   Department_Name    Location\n",
      "0           0              1  General Medicine  Building A\n",
      "1           1              2        Cardiology  Building B\n",
      "2           2              3       Orthopedics  Building C\n",
      "3           3              4         Neurology  Building D\n",
      "4           4              5       Dermatology  Building E\n",
      "\n",
      "Date Dimension Structure:\n",
      "   Unnamed: 0  Date_ID        Date  Day  Month  Quarter  Year\n",
      "0           0        1  2023-01-10   10      1        1  2023\n",
      "1           1        2  2023-02-15   15      2        1  2023\n",
      "2           2        3  2023-03-18   18      3        1  2023\n",
      "3           3        4  2023-04-22   22      4        2  2023\n",
      "4           4        5  2023-05-25   25      5        2  2023\n",
      "\n",
      "Treatment Dimension Structure:\n",
      "   Unnamed: 0 Treatment_Code      Treatment_Description\n",
      "0           0           T001       Antiviral Medication\n",
      "1           1           T002  Blood Pressure Medication\n",
      "2           2           T003                    Casting\n",
      "3           3           T004            Pain Management\n",
      "4           4           T005           Topical Ointment\n",
      "\n",
      "Diagnosis Dimension Structure:\n",
      "   Unnamed: 0 Diagnosis_Code Diagnosis_Description\n",
      "0           0           D001                   Flu\n",
      "1           1           D002          Hypertension\n",
      "2           2           D003              Fracture\n",
      "3           3           D004              Migraine\n",
      "4           4           D005                  Acne\n",
      "\n",
      "Medical Visit Fact Table Structure:\n",
      "   Unnamed: 0  Visit_ID  Patient_ID  Physician_ID  Date_ID  Department_ID  \\\n",
      "0           0         1           1             1        1              1   \n",
      "1           1         2           2             2        2              2   \n",
      "2           2         3           3             3        3              3   \n",
      "3           3         4           4             4        4              4   \n",
      "4           4         5           5             5        5              5   \n",
      "\n",
      "     Visit_Type Diagnosis_Code Treatment_Code  Visit_Cost  Insurance_Coverage  \n",
      "0  Consultation           D001           T001       150.0               100.0  \n",
      "1     Follow-up           D002           T002       200.0               150.0  \n",
      "2       Surgery           D003           T003      3000.0              2500.0  \n",
      "3     Emergency           D004           T004       500.0               400.0  \n",
      "4      Check-up           D005           T005       120.0               100.0  \n"
     ]
    }
   ],
   "source": [
    "# Explore the data structure\n",
    "print(\"Patient Dimension Structure:\")\n",
    "print(patient_dim.info())\n",
    "\n",
    "print(\"\\nPhysician Dimension Structure:\")\n",
    "print(physician_dim.info())\n",
    "\n",
    "print(\"\\nDepartment Dimension Structure:\")\n",
    "print(department_dim.info())\n",
    "\n",
    "print(\"\\nDate Dimension Structure:\")\n",
    "print(date_dim.info())\n",
    "\n",
    "print(\"\\nTreatment Dimension Structure:\")\n",
    "print(treatment_dim.info())\n",
    "\n",
    "print(\"\\nDiagnosis Dimension Structure:\")\n",
    "print(diagnosis_dim.info())\n",
    "\n",
    "print(\"\\nMedical Visit Fact Table Structure:\")\n",
    "print(medical_visit_fact.info())\n"
   ]
  },
  {
   "cell_type": "markdown",
   "metadata": {},
   "source": [
    "# Number 2: (5 points) Fact Table in python."
   ]
  },
  {
   "cell_type": "code",
   "execution_count": 11,
   "metadata": {},
   "outputs": [
    {
     "name": "stdout",
     "output_type": "stream",
     "text": [
      "Medical Visit Fact Table Summary:\n",
      "   Unnamed: 0  Visit_ID  Patient_ID  Physician_ID  Date_ID  Department_ID  \\\n",
      "0           0         1           1             1        1              1   \n",
      "1           1         2           2             2        2              2   \n",
      "2           2         3           3             3        3              3   \n",
      "3           3         4           4             4        4              4   \n",
      "4           4         5           5             5        5              5   \n",
      "\n",
      "     Visit_Type Diagnosis_Code Treatment_Code  Visit_Cost  Insurance_Coverage  \n",
      "0  Consultation           D001           T001       150.0               100.0  \n",
      "1     Follow-up           D002           T002       200.0               150.0  \n",
      "2       Surgery           D003           T003      3000.0              2500.0  \n",
      "3     Emergency           D004           T004       500.0               400.0  \n",
      "4      Check-up           D005           T005       120.0               100.0  \n"
     ]
    }
   ],
   "source": [
    "\n",
    "# Display fact table\n",
    "print(\"Medical Visit Fact Table Summary:\")\n",
    "print(medical_visit_fact)\n"
   ]
  },
  {
   "cell_type": "markdown",
   "metadata": {},
   "source": [
    "# Number 3. (10 points) Queries about: \n",
    "\n",
    "    ## 3.1.  Total insurance coverage per patient\n",
    "    ## 3.2.  Total cost of treatment per patient"
   ]
  },
  {
   "cell_type": "code",
   "execution_count": 12,
   "metadata": {},
   "outputs": [
    {
     "name": "stdout",
     "output_type": "stream",
     "text": [
      "   Patient_ID  Total_Insurance_Coverage\n",
      "0           1                     100.0\n",
      "1           2                     150.0\n",
      "2           3                    2500.0\n",
      "3           4                     400.0\n",
      "4           5                     100.0\n"
     ]
    }
   ],
   "source": [
    "# 3.1\n",
    "# Total INSURANCE COVERAGE per patient\n",
    "# Group by patient and sum the insurance coverage\n",
    "total_insurance_coverage = medical_visit_fact.groupby('Patient_ID')['Insurance_Coverage'].sum().reset_index()\n",
    "total_insurance_coverage.columns = ['Patient_ID', 'Total_Insurance_Coverage']\n",
    "print(total_insurance_coverage)\n"
   ]
  },
  {
   "cell_type": "code",
   "execution_count": 13,
   "metadata": {},
   "outputs": [
    {
     "name": "stdout",
     "output_type": "stream",
     "text": [
      "   Patient_ID  Total_Treatment_Cost\n",
      "0           1                 150.0\n",
      "1           2                 200.0\n",
      "2           3                3000.0\n",
      "3           4                 500.0\n",
      "4           5                 120.0\n"
     ]
    }
   ],
   "source": [
    "# 3.2\n",
    "# Total COST OF TREATMENT per patient\n",
    "# Group by patient and sum the treatment cost\n",
    "total_treatment_cost = medical_visit_fact.groupby('Patient_ID')['Visit_Cost'].sum().reset_index()\n",
    "total_treatment_cost.columns = ['Patient_ID', 'Total_Treatment_Cost']\n",
    "print(total_treatment_cost)\n"
   ]
  },
  {
   "cell_type": "markdown",
   "metadata": {},
   "source": [
    "# Number 4. (10 points) . Perform the merging of the following tables :\n",
    "\n",
    "    ## 4.1. Medical visit with  patient details.\n",
    "    ## 4.2. Medical visit  with date details."
   ]
  },
  {
   "cell_type": "code",
   "execution_count": 14,
   "metadata": {},
   "outputs": [
    {
     "name": "stdout",
     "output_type": "stream",
     "text": [
      "   Unnamed: 0_x  Visit_ID  Patient_ID  Physician_ID  Date_ID  Department_ID  \\\n",
      "0             0         1           1             1        1              1   \n",
      "1             1         2           2             2        2              2   \n",
      "2             2         3           3             3        3              3   \n",
      "3             3         4           4             4        4              4   \n",
      "4             4         5           5             5        5              5   \n",
      "\n",
      "     Visit_Type Diagnosis_Code Treatment_Code  Visit_Cost  ...         City  \\\n",
      "0  Consultation           D001           T001       150.0  ...  Los Angeles   \n",
      "1     Follow-up           D002           T002       200.0  ...     New York   \n",
      "2       Surgery           D003           T003      3000.0  ...      Chicago   \n",
      "3     Emergency           D004           T004       500.0  ...      Houston   \n",
      "4      Check-up           D005           T005       120.0  ...        Miami   \n",
      "\n",
      "        State Country                   Email  Phone_Number Date_Of_Birth  \\\n",
      "0  California     USA    john.doe@example.com  555-123-4567    1980-01-15   \n",
      "1    New York     USA  jane.smith@example.com  555-234-5678    1975-02-20   \n",
      "2    Illinois     USA   michael.j@example.com  555-345-6789    1985-03-25   \n",
      "3       Texas     USA     emily.d@example.com  555-456-7890    1990-04-30   \n",
      "4     Florida     USA     david.w@example.com  555-567-8901    1982-05-10   \n",
      "\n",
      "  Gender Insurance_ID Primary_Physician Date_Of_Registration  \n",
      "0      M    INS123456   Dr. Alice Smith           2023-01-10  \n",
      "1      F    INS234567     Dr. Bob Brown           2023-02-15  \n",
      "2      M    INS345678   Dr. Carol White           2023-03-18  \n",
      "3      F    INS456789   Dr. David Green           2023-04-22  \n",
      "4      M    INS567890     Dr. Eve Black           2023-05-25  \n",
      "\n",
      "[5 rows x 24 columns]\n"
     ]
    }
   ],
   "source": [
    "# 4.1\n",
    "# Medical visit with  patient details.\n",
    "\n",
    "medical_visit_patient = pd.merge(medical_visit_fact, patient_dim, on='Patient_ID')\n",
    "print(medical_visit_patient.head())\n"
   ]
  },
  {
   "cell_type": "code",
   "execution_count": 15,
   "metadata": {},
   "outputs": [
    {
     "name": "stdout",
     "output_type": "stream",
     "text": [
      "   Unnamed: 0_x  Visit_ID  Patient_ID  Physician_ID  Date_ID  Department_ID  \\\n",
      "0             0         1           1             1        1              1   \n",
      "1             1         2           2             2        2              2   \n",
      "2             2         3           3             3        3              3   \n",
      "3             3         4           4             4        4              4   \n",
      "4             4         5           5             5        5              5   \n",
      "\n",
      "     Visit_Type Diagnosis_Code Treatment_Code  Visit_Cost  Insurance_Coverage  \\\n",
      "0  Consultation           D001           T001       150.0               100.0   \n",
      "1     Follow-up           D002           T002       200.0               150.0   \n",
      "2       Surgery           D003           T003      3000.0              2500.0   \n",
      "3     Emergency           D004           T004       500.0               400.0   \n",
      "4      Check-up           D005           T005       120.0               100.0   \n",
      "\n",
      "   Unnamed: 0_y        Date  Day  Month  Quarter  Year  \n",
      "0             0  2023-01-10   10      1        1  2023  \n",
      "1             1  2023-02-15   15      2        1  2023  \n",
      "2             2  2023-03-18   18      3        1  2023  \n",
      "3             3  2023-04-22   22      4        2  2023  \n",
      "4             4  2023-05-25   25      5        2  2023  \n"
     ]
    }
   ],
   "source": [
    "# 4.2\n",
    "# Medical visit  with date details.\n",
    "medical_visit_date = pd.merge(medical_visit_fact, date_dim, on='Date_ID')\n",
    "print(medical_visit_date.head())\n"
   ]
  },
  {
   "cell_type": "markdown",
   "metadata": {},
   "source": [
    "# Number 5. (5 points) Perform the normalizaton in the patient table."
   ]
  },
  {
   "cell_type": "code",
   "execution_count": null,
   "metadata": {},
   "outputs": [],
   "source": [
    "# Display the original patient table\n",
    "print(\"Original Patient Table:\")\n",
    "print(patient_dim.head())"
   ]
  },
  {
   "cell_type": "code",
   "execution_count": 18,
   "metadata": {},
   "outputs": [
    {
     "name": "stdout",
     "output_type": "stream",
     "text": [
      "\n",
      "Normalized Patient Table:\n",
      "   Unnamed: 0  Patient_ID     Patient_Name Date_Of_Birth Gender Insurance_ID  \\\n",
      "0           0           1         John Doe    1980-01-15      M    INS123456   \n",
      "1           1           2       Jane Smith    1975-02-20      F    INS234567   \n",
      "2           2           3  Michael Johnson    1985-03-25      M    INS345678   \n",
      "3           3           4      Emily Davis    1990-04-30      F    INS456789   \n",
      "4           4           5     David Wilson    1982-05-10      M    INS567890   \n",
      "\n",
      "  Primary_Physician Date_Of_Registration  \n",
      "0   Dr. Alice Smith           2023-01-10  \n",
      "1     Dr. Bob Brown           2023-02-15  \n",
      "2   Dr. Carol White           2023-03-18  \n",
      "3   Dr. David Green           2023-04-22  \n",
      "4     Dr. Eve Black           2023-05-25  \n"
     ]
    }
   ],
   "source": [
    "# Step 1: Create the Contact Info Table\n",
    "contact_info = patient_dim[['Patient_ID', 'Email', 'Phone_Number']].drop_duplicates().reset_index(drop=True)\n",
    "\n",
    "# Step 2: Create the Patient Address Table\n",
    "patient_address = patient_dim[['Patient_ID', 'Address', 'City', 'State', 'Country']].drop_duplicates().reset_index(drop=True)\n",
    "\n",
    "# Step 3: Create the Normalized Patient Table by removing REDUNDANT columns\n",
    "patient_normalized = patient_dim.drop(['Email', 'Phone_Number', 'Address', 'City', 'State', 'Country'], axis=1)\n",
    "\n",
    "# Display the normalized patient table\n",
    "print(\"\\nNormalized Patient Table:\")\n",
    "print(patient_normalized.head())"
   ]
  }
 ],
 "metadata": {
  "kernelspec": {
   "display_name": "base",
   "language": "python",
   "name": "python3"
  },
  "language_info": {
   "codemirror_mode": {
    "name": "ipython",
    "version": 3
   },
   "file_extension": ".py",
   "mimetype": "text/x-python",
   "name": "python",
   "nbconvert_exporter": "python",
   "pygments_lexer": "ipython3",
   "version": "3.11.7"
  }
 },
 "nbformat": 4,
 "nbformat_minor": 2
}
